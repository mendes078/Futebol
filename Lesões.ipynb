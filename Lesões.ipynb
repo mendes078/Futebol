{
 "cells": [
  {
   "cell_type": "markdown",
   "id": "bf5f37ae-526d-40bf-8c67-fc2f3a2759bf",
   "metadata": {},
   "source": [
    "O futebol, apesar de bastante divertido, se trata de um esporte que exige um esforço físico considerável por parte dos atletas que o praticam. Muitos jogadores, por exemplo, chegam a percorrer distâncias vistas em maratonas durante os noventa (90) minutos de uma partida. A exigência proposta por esta ação dentro de campo, além de disputas pela posse da bola com o adversário, podem acarretar em lesões aos praticantes do esporte."
   ]
  },
  {
   "cell_type": "markdown",
   "id": "22c6ad91-38ae-4b15-9197-3d48d0d33a69",
   "metadata": {},
   "source": [
    "Neste projeto, estaremos analisando um dataset contendo dados sobre estas respectivas lesões que podem acontecer durante um jogo de futebol. Este arquivo contém as seguintes colunas:\n",
    "\n",
    "- `player_id` refere-se ao número utilizado para identificação do jogador;\n",
    "- `season_name` refere-se à temporada em que a lesão ocorreu;\n",
    "- `injury_reason` refere-se ao motivo da lesão;\n",
    "- `from_date` refere-se à data em que o jogador sofreu a lesão;\n",
    "- `end_date` refere-se à data em que o jogador se recuperou da lesão;\n",
    "- `days_missed` refere-se à quantidade de dias perdidos pelo jogador nas atividades dos clubes;\n",
    "- `games_missed` refere-se à quantidade de jogos perdidos por conta da lesão."
   ]
  },
  {
   "cell_type": "markdown",
   "id": "15a320fb-873c-4744-a67f-e4c161d37822",
   "metadata": {},
   "source": [
    "Analisaremos estes dados a fim responder as seguintes incógnitas:\n",
    "\n",
    "- `Como` se dá a **distribuição** de lesões por jogador?\n",
    "- `Qual` a **frequência** de lesões por posição (goleiro, atacante e zagueiro, por exemplo)?\n",
    "- `Qual` é o **número** de lesões por temporada/mês/ano\n",
    "- `Qual` o **tempo médio** de recuperação dessas lesões?\n",
    "- `Quais` são as partes do corpo **mais** lesionadas?\n",
    "- `Quais` são os tipos mais **comuns** de lesões?"
   ]
  },
  {
   "cell_type": "code",
   "execution_count": null,
   "id": "e4616dd9-0b94-4c2c-ab2a-92fca72ff93b",
   "metadata": {},
   "outputs": [],
   "source": []
  }
 ],
 "metadata": {
  "kernelspec": {
   "display_name": "Python 3 (ipykernel)",
   "language": "python",
   "name": "python3"
  },
  "language_info": {
   "codemirror_mode": {
    "name": "ipython",
    "version": 3
   },
   "file_extension": ".py",
   "mimetype": "text/x-python",
   "name": "python",
   "nbconvert_exporter": "python",
   "pygments_lexer": "ipython3",
   "version": "3.13.2"
  }
 },
 "nbformat": 4,
 "nbformat_minor": 5
}
